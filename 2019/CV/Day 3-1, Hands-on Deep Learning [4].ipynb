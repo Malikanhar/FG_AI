{
 "cells": [
  {
   "cell_type": "markdown",
   "metadata": {},
   "source": [
    "![title](https://image.ibb.co/hXVrae/logo3.png)\n",
    "\n",
    "***\n",
    "\n",
    "# Hands-on Deep Learning:<br>Memperdalam Jaringan Saraf Tiruan\n",
    "\n",
    "Rabu, 8 Agustus 2018 <br>\n",
    "Anditya Arifianto \n",
    "\n",
    "\n",
    "***"
   ]
  },
  {
   "cell_type": "code",
   "execution_count": 1,
   "metadata": {},
   "outputs": [],
   "source": [
    "import tensorflow as tf\n",
    "import numpy as np\n",
    "import matplotlib.pyplot as plt\n",
    "\n",
    "\n",
    "from tensorflow.keras.models import Sequential\n",
    "from tensorflow.keras import Model\n",
    "from tensorflow.keras.layers import Input, Flatten, Dense, Activation\n",
    "from tensorflow.keras import backend as K\n",
    "\n",
    "from sklearn.metrics import classification_report, confusion_matrix, accuracy_score"
   ]
  },
  {
   "cell_type": "markdown",
   "metadata": {},
   "source": [
    "## 4. Perkembangan menuju *Deep Learning*\n",
    "\n",
    "Meskipun ditemukan banyak kelemahan, perkembangan untuk memperbaiki Jaringan Saraf Tiruan terus dilakukan hingga mulai populernya istilah ***Deep Learning*** pada tahun 2006 saat Geoff Hinton memperkenalkan teknik baru untuk melatih Jaringan Saraf Tiruan."
   ]
  },
  {
   "cell_type": "markdown",
   "metadata": {},
   "source": [
    "### 4.1 *Layer-wise Unsupervised Pretraining*\n",
    "\n",
    "Pada tahun 2006, Geoffrey Hinton and Ruth Salakhutdinov berhasil melatih Jaringan dengan arsitektur layer lebih dari 10 layer dengan cara melatih layer-per-layer satu per satu menggunakan ***Restricted Boltzmann Machine*** hingga bobot layer mampu merepresentasikan input data, baru kemudian menggabungkan layer-layer yang telah dilatih tersebut menjadi satu kesatuan Jaringan. Setelah tertumpuk, Jaringan dapat dilatih dengan Back-Propagation tanpa khawatir mengalami *Vanishing Gradient Problem*\n",
    "\n",
    "![RBM](https://image.ibb.co/eHq6Ae/mlenewimage14.png)\n",
    "\n",
    "Implementasi RBM cukup rumit, bahkan menggunakan Tensorflow. Untuk itu mari kita coba proses yang sama dengan metode yang setara namun lebih mudah, yaitu Autoencoder"
   ]
  },
  {
   "cell_type": "markdown",
   "metadata": {},
   "source": [
    "### 4.2 *Autoencoder*"
   ]
  },
  {
   "cell_type": "markdown",
   "metadata": {},
   "source": [
    "Autoencoder adalah Jaringan Saraf yang dilatih dengan tujuan untuk mengkopi input menjadi output. Jaringan Autoencoder terdiri dari dua bagian: Encoder dan Decoder. Awalnya, Autoencoder digunakan untuk melakukan reduksi dimensi atau *feature learning* yang untuk beberapa kasus berhasil mereduksi dimensi lebih baik daripada PCA.\n",
    "![autoencoder](https://blog.keras.io/img/ae/autoencoder_schema.jpg)\n",
    "Kali ini kita juga akan gunakan dataset Fashion MNIST langsung dari dataset tensorflow. Maka load kembali dataset\n",
    "\n",
    "Gambar: blog.keras.io "
   ]
  },
  {
   "cell_type": "code",
   "execution_count": 2,
   "metadata": {},
   "outputs": [
    {
     "name": "stdout",
     "output_type": "stream",
     "text": [
      "(60000, 28, 28)\n",
      "(10000, 28, 28)\n"
     ]
    }
   ],
   "source": [
    "(x_train, y_train), (x_test, y_test) = tf.keras.datasets.fashion_mnist.load_data()\n",
    "\n",
    "print(x_train.shape)\n",
    "print(x_test.shape)"
   ]
  },
  {
   "cell_type": "code",
   "execution_count": 3,
   "metadata": {},
   "outputs": [],
   "source": [
    "# Define the text labels\n",
    "fashion_mnist_labels = [\"T-shirt/top\",  # index 0\n",
    "                        \"Trouser\",      # index 1\n",
    "                        \"Pullover\",     # index 2 \n",
    "                        \"Dress\",        # index 3 \n",
    "                        \"Coat\",         # index 4\n",
    "                        \"Sandal\",       # index 5\n",
    "                        \"Shirt\",        # index 6 \n",
    "                        \"Sneaker\",      # index 7 \n",
    "                        \"Bag\",          # index 8 \n",
    "                        \"Ankle boot\"]   # index 9\n",
    "num_class = 10"
   ]
  },
  {
   "cell_type": "markdown",
   "metadata": {},
   "source": [
    "Setelah kita unduh dataset, mari kita coba tampilkan tampilan salah satu data"
   ]
  },
  {
   "cell_type": "code",
   "execution_count": 4,
   "metadata": {},
   "outputs": [
    {
     "name": "stdout",
     "output_type": "stream",
     "text": [
      "y = 0 T-shirt/top\n"
     ]
    },
    {
     "data": {
      "text/plain": [
       "<matplotlib.image.AxesImage at 0x1fb3a25d978>"
      ]
     },
     "execution_count": 4,
     "metadata": {},
     "output_type": "execute_result"
    },
    {
     "data": {
      "image/png": "[encoded data removed]",
      "text/plain": [
       "<Figure size 432x288 with 1 Axes>"
      ]
     },
     "metadata": {},
     "output_type": "display_data"
    }
   ],
   "source": [
    "img_index = 10\n",
    "label_index = int(y_train[img_index])\n",
    "print (\"y = \" + str(label_index) + \" \" +(fashion_mnist_labels[label_index]))\n",
    "plt.imshow(x_train[img_index].astype(np.uint8), cmap='gray')"
   ]
  },
  {
   "cell_type": "markdown",
   "metadata": {},
   "source": [
    "Kemudian kita lakukan preprocessing terhadap data untuk meratakan data."
   ]
  },
  {
   "cell_type": "code",
   "execution_count": 5,
   "metadata": {},
   "outputs": [
    {
     "name": "stdout",
     "output_type": "stream",
     "text": [
      "(60000, 784)\n",
      "(10000, 784)\n"
     ]
    }
   ],
   "source": [
    "y_train = tf.keras.utils.to_categorical(y_train, 10)\n",
    "y_test = tf.keras.utils.to_categorical(y_test, 10)\n",
    "\n",
    "x_train = x_train.astype('float32') / 255.\n",
    "x_test = x_test.astype('float32') / 255.\n",
    "x_train = x_train.reshape((len(x_train), np.prod(x_train.shape[1:])))\n",
    "x_test = x_test.reshape((len(x_test), np.prod(x_test.shape[1:])))\n",
    "print(x_train.shape)\n",
    "print(x_test.shape)\n",
    "\n",
    "n_input = x_train.shape[1]"
   ]
  },
  {
   "cell_type": "markdown",
   "metadata": {},
   "source": [
    "Untuk membuat suatu jaringan Autoencoder, maka kita gunakan sebuah layer Dense dengan input ukuran data dan output ukuran reduksi dimesi.\n",
    "\n",
    "Setelah itu kita tumpuk dengan sebuah layer Dense lagi yang menerima input berukuran hasil reduksi dimensi dan output kembali ke ukuran data."
   ]
  },
  {
   "cell_type": "code",
   "execution_count": 6,
   "metadata": {},
   "outputs": [],
   "source": [
    "encoding_dim = 100 \n",
    "\n",
    "input_img = Input(shape=(n_input,))\n",
    "\n",
    "encoded = Dense(encoding_dim, activation='sigmoid')(input_img)  # layer 1\n",
    "\n",
    "decoded = Dense(n_input, activation='sigmoid')(encoded)         # layer 2\n",
    "\n",
    "# satukan model\n",
    "autoencoder = Model(input_img, decoded)"
   ]
  },
  {
   "cell_type": "markdown",
   "metadata": {},
   "source": [
    "Mari kita coba melatih jaringan dengan 30 epoch"
   ]
  },
  {
   "cell_type": "code",
   "execution_count": 7,
   "metadata": {},
   "outputs": [
    {
     "name": "stdout",
     "output_type": "stream",
     "text": [
      "Train on 60000 samples, validate on 10000 samples\n",
      "Epoch 1/30\n",
      "60000/60000 [==============================] - 4s 66us/step - loss: 0.4233 - val_loss: 0.3649\n",
      "Epoch 2/30\n",
      "60000/60000 [==============================] - 2s 31us/step - loss: 0.3425 - val_loss: 0.3314\n",
      "Epoch 3/30\n",
      "60000/60000 [==============================] - 2s 31us/step - loss: 0.3219 - val_loss: 0.3184\n",
      "Epoch 4/30\n",
      "60000/60000 [==============================] - 2s 30us/step - loss: 0.3126 - val_loss: 0.3117\n",
      "Epoch 5/30\n",
      "60000/60000 [==============================] - 2s 30us/step - loss: 0.3069 - val_loss: 0.3075\n",
      "Epoch 6/30\n",
      "60000/60000 [==============================] - 2s 32us/step - loss: 0.3030 - val_loss: 0.3030\n",
      "Epoch 7/30\n",
      "60000/60000 [==============================] - 2s 30us/step - loss: 0.2998 - val_loss: 0.3007\n",
      "Epoch 8/30\n",
      "60000/60000 [==============================] - 2s 30us/step - loss: 0.2973 - val_loss: 0.3009\n",
      "Epoch 9/30\n",
      "60000/60000 [==============================] - 2s 31us/step - loss: 0.2953 - val_loss: 0.2957\n",
      "Epoch 10/30\n",
      "60000/60000 [==============================] - 2s 31us/step - loss: 0.2935 - val_loss: 0.2942\n",
      "Epoch 11/30\n",
      "60000/60000 [==============================] - 2s 31us/step - loss: 0.2922 - val_loss: 0.2936- ETA: 0s - \n",
      "Epoch 12/30\n",
      "60000/60000 [==============================] - 2s 31us/step - loss: 0.2910 - val_loss: 0.2916\n",
      "Epoch 13/30\n",
      "60000/60000 [==============================] - 2s 31us/step - loss: 0.2899 - val_loss: 0.2932\n",
      "Epoch 14/30\n",
      "60000/60000 [==============================] - 2s 31us/step - loss: 0.2890 - val_loss: 0.2919\n",
      "Epoch 15/30\n",
      "60000/60000 [==============================] - 2s 32us/step - loss: 0.2882 - val_loss: 0.2915\n",
      "Epoch 16/30\n",
      "60000/60000 [==============================] - 2s 31us/step - loss: 0.2874 - val_loss: 0.2888\n",
      "Epoch 17/30\n",
      "60000/60000 [==============================] - 2s 31us/step - loss: 0.2867 - val_loss: 0.2889\n",
      "Epoch 18/30\n",
      "60000/60000 [==============================] - 2s 31us/step - loss: 0.2861 - val_loss: 0.2867\n",
      "Epoch 19/30\n",
      "60000/60000 [==============================] - 2s 30us/step - loss: 0.2855 - val_loss: 0.2907\n",
      "Epoch 20/30\n",
      "60000/60000 [==============================] - 2s 32us/step - loss: 0.2850 - val_loss: 0.2861\n",
      "Epoch 21/30\n",
      "60000/60000 [==============================] - 2s 30us/step - loss: 0.2845 - val_loss: 0.2853\n",
      "Epoch 22/30\n",
      "60000/60000 [==============================] - 2s 31us/step - loss: 0.2840 - val_loss: 0.2857\n",
      "Epoch 23/30\n",
      "60000/60000 [==============================] - 2s 30us/step - loss: 0.2836 - val_loss: 0.2846\n",
      "Epoch 24/30\n",
      "60000/60000 [==============================] - 2s 30us/step - loss: 0.2831 - val_loss: 0.2861\n",
      "Epoch 25/30\n",
      "60000/60000 [==============================] - 2s 31us/step - loss: 0.2828 - val_loss: 0.2841\n",
      "Epoch 26/30\n",
      "60000/60000 [==============================] - 2s 31us/step - loss: 0.2824 - val_loss: 0.2842\n",
      "Epoch 27/30\n",
      "60000/60000 [==============================] - 2s 31us/step - loss: 0.2821 - val_loss: 0.2835\n",
      "Epoch 28/30\n",
      "60000/60000 [==============================] - 2s 31us/step - loss: 0.2818 - val_loss: 0.2836s\n",
      "Epoch 29/30\n",
      "60000/60000 [==============================] - 2s 31us/step - loss: 0.2815 - val_loss: 0.2839\n",
      "Epoch 30/30\n",
      "60000/60000 [==============================] - 2s 31us/step - loss: 0.2812 - val_loss: 0.2825\n"
     ]
    },
    {
     "data": {
      "text/plain": [
       "<tensorflow.python.keras.callbacks.History at 0x1fb31e20400>"
      ]
     },
     "execution_count": 7,
     "metadata": {},
     "output_type": "execute_result"
    }
   ],
   "source": [
    "\n",
    "autoencoder.compile(optimizer='rmsprop', loss='binary_crossentropy')\n",
    "autoencoder.fit(x_train, x_train,\n",
    "                epochs=30,\n",
    "                batch_size=256,\n",
    "                shuffle=True,\n",
    "                validation_data=(x_test, x_test))"
   ]
  },
  {
   "cell_type": "markdown",
   "metadata": {},
   "source": [
    "Untuk melakukan prediksi, maka mari kita buat model Encoder dan Decoder yang masing-masing merupakan setengah dari model yang sudah dilatih"
   ]
  },
  {
   "cell_type": "code",
   "execution_count": 8,
   "metadata": {},
   "outputs": [],
   "source": [
    "encoder = Model(input_img, encoded)"
   ]
  },
  {
   "cell_type": "code",
   "execution_count": 9,
   "metadata": {},
   "outputs": [],
   "source": [
    "encoded_input = Input(shape=(encoding_dim,))\n",
    "decoder_layer = autoencoder.layers[-1]\n",
    "decoder = Model(encoded_input, decoder_layer(encoded_input))"
   ]
  },
  {
   "cell_type": "markdown",
   "metadata": {},
   "source": [
    "Mari kita coba untuk meng-encode data test dan kemudian mencoba merekonstruksi kembali hasil encode tersebut"
   ]
  },
  {
   "cell_type": "code",
   "execution_count": 27,
   "metadata": {},
   "outputs": [
    {
     "data": {
      "text/plain": [
       "(1, 784)"
      ]
     },
     "execution_count": 27,
     "metadata": {},
     "output_type": "execute_result"
    }
   ],
   "source": [
    "x_test[0].reshape(1,784).shape"
   ]
  },
  {
   "cell_type": "code",
   "execution_count": 32,
   "metadata": {},
   "outputs": [
    {
     "data": {
      "image/png": "[encoded data removed]",
      "text/plain": [
       "<Figure size 432x288 with 1 Axes>"
      ]
     },
     "metadata": {},
     "output_type": "display_data"
    }
   ],
   "source": [
    "plt.imshow(x_test[0].reshape(28,28))\n",
    "plt.gray()"
   ]
  },
  {
   "cell_type": "code",
   "execution_count": 28,
   "metadata": {},
   "outputs": [
    {
     "data": {
      "text/plain": [
       "(1, 100)"
      ]
     },
     "execution_count": 28,
     "metadata": {},
     "output_type": "execute_result"
    }
   ],
   "source": [
    "\n",
    "encoded_imgs = encoder.predict(x_test[0].reshape(1,784))\n",
    "encoded_imgs.shape"
   ]
  },
  {
   "cell_type": "code",
   "execution_count": 29,
   "metadata": {
    "scrolled": false
   },
   "outputs": [
    {
     "name": "stdout",
     "output_type": "stream",
     "text": [
      "[[1.0000000e+00 1.0000000e+00 1.0000000e+00 3.9237642e-01 1.0000000e+00\n",
      "  1.0000000e+00 6.4370173e-01 7.2742367e-01 1.0000000e+00 5.5009240e-01\n",
      "  1.0000000e+00 1.9869903e-01 6.1841674e-05 1.0000000e+00 1.0000000e+00\n",
      "  1.6073513e-09 4.9642268e-01 3.9243990e-01 3.6307454e-01 1.0000000e+00\n",
      "  1.0000000e+00 9.3878162e-01 9.5023239e-01 1.0000000e+00 1.0000000e+00\n",
      "  2.3866324e-01 3.1500953e-01 2.1077678e-01 8.2618546e-01 1.0000000e+00\n",
      "  6.0540545e-01 1.2958135e-01 1.0000000e+00 3.7402812e-02 7.5578004e-01\n",
      "  1.0000000e+00 1.0000000e+00 7.9166275e-01 1.0000000e+00 7.7575487e-01\n",
      "  2.5677669e-01 7.9379904e-01 1.0000000e+00 2.9670599e-01 9.4594628e-01\n",
      "  9.9134773e-01 1.0000000e+00 6.5723288e-01 5.4864550e-01 9.1959602e-01\n",
      "  1.0000000e+00 7.9002535e-01 2.6736565e-02 1.0000000e+00 6.9541639e-01\n",
      "  6.5238208e-01 6.3787781e-02 5.0488263e-01 1.0037120e-01 9.0098953e-01\n",
      "  1.4236812e-01 1.0000000e+00 1.0000000e+00 2.3141105e-01 9.0297860e-01\n",
      "  4.0822050e-01 4.7863054e-01 6.4817220e-01 6.8185341e-01 4.1482493e-01\n",
      "  5.3925139e-01 8.1494707e-01 1.0000000e+00 1.0000000e+00 1.0000000e+00\n",
      "  1.6936764e-01 9.4623756e-01 7.0642585e-01 1.0000000e+00 1.0000000e+00\n",
      "  3.5671434e-01 1.0000000e+00 1.0000000e+00 1.0000000e+00 1.0000000e+00\n",
      "  3.1578341e-01 4.2305523e-01 4.5046976e-01 3.8140765e-01 1.0000000e+00\n",
      "  8.4981096e-01 3.0075228e-01 1.0000000e+00 3.3615300e-01 1.0000000e+00\n",
      "  1.0000000e+00 1.0000000e+00 8.0135292e-01 7.9082370e-01 5.6784672e-01]]\n"
     ]
    }
   ],
   "source": [
    "print(encoded_imgs)\n"
   ]
  },
  {
   "cell_type": "code",
   "execution_count": 30,
   "metadata": {},
   "outputs": [],
   "source": [
    "decoded_imgs = decoder.predict(encoded_imgs)"
   ]
  },
  {
   "cell_type": "code",
   "execution_count": 31,
   "metadata": {},
   "outputs": [
    {
     "data": {
      "image/png": "[encoded data removed]",
      "text/plain": [
       "<Figure size 432x288 with 1 Axes>"
      ]
     },
     "metadata": {},
     "output_type": "display_data"
    }
   ],
   "source": [
    "plt.imshow(decoded_imgs.reshape(28,28))\n",
    "plt.gray()"
   ]
  },
  {
   "cell_type": "code",
   "execution_count": null,
   "metadata": {},
   "outputs": [],
   "source": []
  },
  {
   "cell_type": "code",
   "execution_count": null,
   "metadata": {},
   "outputs": [],
   "source": []
  },
  {
   "cell_type": "code",
   "execution_count": null,
   "metadata": {},
   "outputs": [],
   "source": []
  },
  {
   "cell_type": "code",
   "execution_count": 43,
   "metadata": {},
   "outputs": [
    {
     "data": {
      "text/plain": [
       "array([[0.4, 0.2, 0.8, 0. , 0.3, 0.9, 0.1, 0.1, 0.3, 0.8, 0.2, 0.7, 0.7,\n",
       "        0.1, 0.8, 0.6, 0.2, 0.3, 0.9, 0.7, 0. , 0. , 0.7, 0.9, 0.1, 0. ,\n",
       "        0.6, 0.6, 0.5, 0.8, 0.6, 0.8, 0.3, 0. , 0.9, 0.3, 0.1, 0.4, 0.1,\n",
       "        0. , 0.4, 0.3, 0.6, 0.3, 0.5, 0. , 0.3, 0.4, 0.8, 0.7, 0.3, 0.2,\n",
       "        0.3, 0.5, 0.3, 0.8, 0.2, 0.9, 0.6, 0.6, 0.9, 0.4, 0.6, 0.2, 0.9,\n",
       "        0.2, 0.5, 0. , 0.5, 0.4, 0.3, 0.1, 0.4, 0.6, 0.1, 0.2, 0.6, 0.9,\n",
       "        0.5, 0.6, 0.3, 0.4, 0.5, 0.6, 0.7, 0.8, 0.9, 0.3, 0.6, 0.3, 0.6,\n",
       "        0.5, 0.9, 0.4, 0.8, 0.3, 0. , 0.9, 0.2, 0.8]])"
      ]
     },
     "execution_count": 43,
     "metadata": {},
     "output_type": "execute_result"
    }
   ],
   "source": [
    "ran = np.random.randint(0,10,(1,100))/10\n",
    "ran"
   ]
  },
  {
   "cell_type": "code",
   "execution_count": 44,
   "metadata": {},
   "outputs": [],
   "source": [
    "\n",
    "decoded_imgs = decoder.predict(ran)"
   ]
  },
  {
   "cell_type": "code",
   "execution_count": 45,
   "metadata": {},
   "outputs": [
    {
     "data": {
      "image/png": "[encoded data removed]",
      "text/plain": [
       "<Figure size 432x288 with 1 Axes>"
      ]
     },
     "metadata": {},
     "output_type": "display_data"
    }
   ],
   "source": [
    "plt.imshow(decoded_imgs.reshape(28,28))\n",
    "plt.gray()"
   ]
  },
  {
   "cell_type": "code",
   "execution_count": null,
   "metadata": {},
   "outputs": [],
   "source": []
  },
  {
   "cell_type": "code",
   "execution_count": null,
   "metadata": {},
   "outputs": [],
   "source": []
  },
  {
   "cell_type": "code",
   "execution_count": null,
   "metadata": {},
   "outputs": [],
   "source": []
  },
  {
   "cell_type": "code",
   "execution_count": 12,
   "metadata": {},
   "outputs": [
    {
     "data": {
      "image/png": "[encoded data removed]",
      "text/plain": [
       "<Figure size 1440x288 with 20 Axes>"
      ]
     },
     "metadata": {},
     "output_type": "display_data"
    }
   ],
   "source": [
    "import matplotlib.pyplot as plt\n",
    "\n",
    "n = 10  # how many digits we will display\n",
    "plt.figure(figsize=(20, 4))\n",
    "for i in range(n):\n",
    "    # display original\n",
    "    ax = plt.subplot(2, n, i + 1)\n",
    "    plt.imshow(x_test[i].reshape(28,28))\n",
    "    plt.gray()\n",
    "    ax.get_xaxis().set_visible(False)\n",
    "    ax.get_yaxis().set_visible(False)\n",
    "\n",
    "    # display reconstruction\n",
    "    ax = plt.subplot(2, n, i + 1 + n)\n",
    "    plt.imshow(decoded_imgs[i].reshape(28,28))\n",
    "    plt.gray()\n",
    "    ax.get_xaxis().set_visible(False)\n",
    "    ax.get_yaxis().set_visible(False)\n",
    "plt.show()"
   ]
  },
  {
   "cell_type": "markdown",
   "metadata": {},
   "source": [
    "Konsep dari *layer-wise pretrain model* adalah dengan membuat jaringan baru lagi yang menerima input hasil reduksi dimensi, dan dilatih untuk mereduksi dimensi lebih jauh.\n",
    "\n",
    "Untuk itu kita bangung model autoencoder kedua sebagai berikut"
   ]
  },
  {
   "cell_type": "code",
   "execution_count": null,
   "metadata": {},
   "outputs": [],
   "source": [
    "encoding_dim2 = 200\n",
    "\n",
    "input_img2 = Input(shape=(encoding_dim,))\n",
    "encoded2 = Dense(encoding_dim2, activation='sigmoid')(input_img2)\n",
    "decoded2 = Dense(encoding_dim, activation='sigmoid')(encoded2)\n",
    "\n",
    "autoencoder2 = Model(input_img2, decoded2)\n",
    "autoencoder2.compile(optimizer='rmsprop', loss='binary_crossentropy')"
   ]
  },
  {
   "cell_type": "markdown",
   "metadata": {},
   "source": [
    "Setelah itu, mari kita latih autoencoder kedua dengan data hasil reduksi dimensi autoencoder pertama"
   ]
  },
  {
   "cell_type": "code",
   "execution_count": null,
   "metadata": {},
   "outputs": [],
   "source": [
    "x_train2 = encoder.predict(x_train)\n",
    "autoencoder2.fit(x_train2, x_train2,\n",
    "                epochs=40,\n",
    "                batch_size=256,\n",
    "                shuffle=True,\n",
    "                validation_data=(encoded_imgs, encoded_imgs))"
   ]
  },
  {
   "cell_type": "markdown",
   "metadata": {},
   "source": [
    "Kemudian kita juga bangun model encoder dan decoder dari potongan autoencoder kedua"
   ]
  },
  {
   "cell_type": "code",
   "execution_count": null,
   "metadata": {},
   "outputs": [],
   "source": [
    "encoder2 = Model(input_img2, encoded2)\n",
    "\n",
    "encoded_input2 = Input(shape=(encoding_dim2,))\n",
    "decoder_layer2 = autoencoder2.layers[-1]\n",
    "decoder2 = Model(encoded_input2, decoder_layer2(encoded_input2))"
   ]
  },
  {
   "cell_type": "markdown",
   "metadata": {},
   "source": [
    "Mari kita coba kedua autoencoder kita jika digunakan untuk merekonstruksi data test"
   ]
  },
  {
   "cell_type": "code",
   "execution_count": null,
   "metadata": {},
   "outputs": [],
   "source": [
    "encoded_imgs = encoder.predict(x_test)\n",
    "encoded_imgs2 = encoder2.predict(encoded_imgs)\n",
    "decoded_imgs2 = decoder2.predict(encoded_imgs2)\n",
    "decoded_imgs = decoder.predict(decoded_imgs2)\n",
    "\n",
    "\n",
    "decoded_imgs_1 = decoder.predict(encoded_imgs)"
   ]
  },
  {
   "cell_type": "code",
   "execution_count": null,
   "metadata": {},
   "outputs": [],
   "source": [
    "import matplotlib.pyplot as plt\n",
    "\n",
    "n = 10  # how many image we will display\n",
    "plt.figure(figsize=(20, 6))\n",
    "for i in range(n):\n",
    "    # display original\n",
    "    ax = plt.subplot(3, n, i + 1)\n",
    "    plt.imshow(x_test[i].reshape(28,28))\n",
    "    plt.gray()\n",
    "    ax.get_xaxis().set_visible(False)\n",
    "    ax.get_yaxis().set_visible(False)\n",
    "\n",
    "    # display first reconstruction\n",
    "    ax = plt.subplot(3, n, i + 1 + n)\n",
    "    plt.imshow(decoded_imgs_1[i].reshape(28,28))\n",
    "    plt.gray()\n",
    "    ax.get_xaxis().set_visible(False)\n",
    "    ax.get_yaxis().set_visible(False)\n",
    "    \n",
    "    # display second reconstruction\n",
    "    ax = plt.subplot(3, n, i + 1 + n+n)\n",
    "    plt.imshow(decoded_imgs[i].reshape(28,28))\n",
    "    plt.gray()\n",
    "    ax.get_xaxis().set_visible(False)\n",
    "    ax.get_yaxis().set_visible(False)\n",
    "plt.show()"
   ]
  },
  {
   "cell_type": "code",
   "execution_count": null,
   "metadata": {},
   "outputs": [],
   "source": [
    "autoencoder.summary()\n",
    "autoencoder2.summary()"
   ]
  },
  {
   "cell_type": "markdown",
   "metadata": {},
   "source": [
    "Sekarang jika kita ingin menggunakan bobot hasil pelatihan kedua autoencoder, maka kita bangun model baru yang menggunakan kedua encoder dari autoencoder yang telah dilatih.\n",
    "\n",
    "Mari kita lihat bagaimana performanya setelah hanya 20 epoch"
   ]
  },
  {
   "cell_type": "code",
   "execution_count": null,
   "metadata": {},
   "outputs": [],
   "source": [
    "inputs2 = Input(shape=(n_input,))\n",
    "x = encoder(inputs2)\n",
    "x = encoder2(x)\n",
    "outputs2 = Dense(num_class, activation='softmax')(x)\n",
    "\n",
    "pretrain = Model(inputs2, outputs2)\n",
    "pretrain.compile(optimizer='sgd', loss='categorical_crossentropy', metrics=['accuracy'])\n",
    "\n",
    "pretrain.fit(x_train, y_train,\n",
    "                epochs=20,\n",
    "                batch_size=256,\n",
    "                shuffle=True,\n",
    "                validation_data=(x_test, y_test))"
   ]
  },
  {
   "cell_type": "markdown",
   "metadata": {},
   "source": [
    "Kini, mari kita bandingkan dengan Jaringan biasa, dengan 2 layer juga, namun dengan inisialisasi bobot yang random"
   ]
  },
  {
   "cell_type": "code",
   "execution_count": null,
   "metadata": {},
   "outputs": [],
   "source": [
    "\n",
    "inputs = Input(shape=(n_input,))\n",
    "x = Dense(500, activation='sigmoid')(inputs)\n",
    "x = Dense(200, activation='sigmoid')(x)\n",
    "outputs = Dense(num_class, activation='softmax')(x)\n",
    "\n",
    "shallow = Model(inputs, outputs)\n",
    "shallow.compile(optimizer='sgd', loss='categorical_crossentropy', metrics=['accuracy'])\n",
    "\n",
    "shallow.fit(x_train, y_train,\n",
    "                epochs=20,\n",
    "                batch_size=256,\n",
    "                shuffle=True,\n",
    "                validation_data=(x_test, y_test))"
   ]
  },
  {
   "cell_type": "code",
   "execution_count": null,
   "metadata": {},
   "outputs": [],
   "source": [
    "print('shallow summary')\n",
    "shallow.summary()\n",
    "print()\n",
    "print('pretrain summary')\n",
    "pretrain.summary()"
   ]
  },
  {
   "cell_type": "code",
   "execution_count": null,
   "metadata": {},
   "outputs": [],
   "source": [
    "\n",
    "y_pretrain = np.argmax(pretrain.predict(x_test),axis=1)\n",
    "y_shallow = np.argmax(shallow.predict(x_test),axis=1)\n",
    "\n",
    "\n",
    "print('Layer-wise Pretrain Performance')\n",
    "print('Confusion Matrix')\n",
    "print(confusion_matrix(np.argmax(y_test,axis=1), y_pretrain))\n",
    "print()\n",
    "\n",
    "print('Accuracy =', accuracy_score(np.argmax(y_test,axis=1), y_pretrain))\n",
    "print()\n",
    "\n",
    "print('Shallow Performance')\n",
    "print('Confusion Matrix')\n",
    "print(confusion_matrix(np.argmax(y_test,axis=1), y_shallow))\n",
    "print()\n",
    "\n",
    "print('Accuracy =', accuracy_score(np.argmax(y_test,axis=1), y_shallow))\n",
    "print()\n",
    "\n"
   ]
  },
  {
   "cell_type": "markdown",
   "metadata": {},
   "source": [
    "Dapat dilihat bahwa jaringan yang sama yang dilatih dengan bobot hasil pretraining dapat menghasilkan akurasi lebih baik hanya dalam 20 epoch"
   ]
  },
  {
   "cell_type": "markdown",
   "metadata": {},
   "source": [
    "### 4.3 *New Weight Initializations*\n",
    "\n",
    "Perkembangan kedua yang menyebabkan Jaringan Saraf tiruan berhasil adalah dengan diperkenalkannya cara inisialisasi bobot baru seperti Xavier Initialization atau Glorot Initialization yang diperkenalkan oleh Glorot et al\n",
    "\n",
    "Dengan cara yang sama dengan sebelumnya, mari kita lihat efek inisialisasi bobot dengan Xavier Initialization pada jaringan 10 neuron berikut"
   ]
  },
  {
   "cell_type": "code",
   "execution_count": null,
   "metadata": {},
   "outputs": [],
   "source": [
    "act = {'tanh': lambda x: np.tanh(x)}\n",
    "\n",
    "D = np.random.randn(1000, 500)\n",
    "hid_size = [500] * 10\n",
    "nonl = ['tanh'] * len(hid_size)\n",
    "\n",
    "Hs = {}\n",
    "for i in range(len(hid_size)):\n",
    "    X = D if i == 0 else Hs[i - 1]\n",
    "    fan_in = X.shape[1]\n",
    "    fan_out = hid_size[i]\n",
    "    W = np.random.randn(fan_in,fan_out) / np.sqrt(fan_in)\n",
    "\n",
    "    H = np.dot(X, W)\n",
    "    H = act[nonl[i]](H)\n",
    "    Hs[i] = H\n",
    "    \n",
    "\n",
    "print('input layer had mean %f and std %f' % (np.mean(D), np.std(D)))\n",
    "layer_means = [np.mean(H) for i, H in Hs.items()]\n",
    "layer_stds = [np.std(H) for i, H in Hs.items()]\n",
    "for i, H in Hs.items():\n",
    "    print ('hidden layer %d had mean %f and std %f' % (i + 1, layer_means[i], layer_stds[i]))\n",
    "\n",
    "plt.figure()\n",
    "plt.subplot(121)\n",
    "plt.plot(Hs.keys(), layer_means, 'ob-')\n",
    "plt.title('layer mean')\n",
    "plt.subplot(122)\n",
    "plt.plot(Hs.keys(), layer_stds, 'or-')\n",
    "plt.title('layer std')\n",
    "\n",
    "plt.figure(figsize=(15,4))\n",
    "for i, H in Hs.items():\n",
    "    plt.subplot(1, len(Hs), i + 1)\n",
    "    plt.hist(H.ravel(), 30, range=(-1, 1))\n",
    "plt.show()"
   ]
  },
  {
   "cell_type": "markdown",
   "metadata": {},
   "source": [
    "Dari hasil di atas dapat dilihat bahwa distribusi hasil aktivasi tiap layer tetap beragam sehingga jaringan dapat terus belajar."
   ]
  },
  {
   "cell_type": "markdown",
   "metadata": {},
   "source": [
    "### 4.4 Fungsi Aktivasi Baru\n",
    "\n",
    "Perkembangan lain yang berkontribusi besar dalam perkembangan Jaringan Saraf Tiruan adalah diperkenalkannya Fungsi Aktivasi baru seperti ***Rectifier Linear Unit*** dan variasinya.\n",
    "\n",
    "ReLU | Leaky ReLU | ELU\n",
    "---|---|---\n",
    "![relu](https://image.ibb.co/dotmAe/relu.png)|![lrelu](https://image.ibb.co/csFoOz/lrelu.png)|![elu](https://image.ibb.co/iB6HGK/elu.png)\n",
    "\n",
    "Penggunaan Fungsi Aktivasi **ReLU** membuat output aktivasi tidak tertekan ke nilai tertentu sehingga gradien dapat mengalir penuh.\n",
    "\n",
    "Saat ini, Fungsi Aktivasi **ReLU** sudah menjadi standar yang digunakan pada Jaringan Saraf Tiruan"
   ]
  },
  {
   "cell_type": "markdown",
   "metadata": {},
   "source": [
    "### 4.5 Fungsi Optimasi Baru\n",
    "Perkembangan juga dilakukan pada teknik optimasi untuk mengupdate bobot dan learning rate seperti teknik SGD yang ditambahkan ***Momentum***, ***Nesterov***, Optimasi ***RMSProp***, Optimasi ***Adagrad***, hingga Optimasi ***ADAM*** dan variasinya\n",
    "\n",
    "Saat ini, penggunaan **Adam** sebagai teknik optimasi Jaringan Saraf Tiruan sudah menjadi hal yang umum.\n",
    "\n",
    "Perbandingan 1 | Perbandingan 2\n",
    "---|---\n",
    "![perbandingan1](http://cs231n.github.io/assets/nn3/opt2.gif)|![perbandingan2](http://cs231n.github.io/assets/nn3/opt1.gif)"
   ]
  },
  {
   "cell_type": "markdown",
   "metadata": {},
   "source": [
    "### 4.6 Penggunaan Teknik-teknik Regularisasi\n",
    "\n",
    "Perkembangan *Deep Learning* ini ditambahkan dengan hasil penambahan teknik regularisasi dan variasinya seperti ***Dropout***, ***Batchnorm***, dan sebagainya\n",
    "\n",
    "Dropout | Perbandingan Optimasi menggunakan Dropout\n",
    "---|---\n",
    "![dropout](http://cs231n.github.io/assets/nn2/dropout.jpeg) | ![perbandingan3](https://image.ibb.co/ehbyqe/perbandingan3.png)"
   ]
  },
  {
   "cell_type": "markdown",
   "metadata": {},
   "source": [
    "### 4.6 Data dan Kemampuan Komputasi\n",
    "\n",
    "Dan tentu saja, perkembangan *Deep Learning* tidak akan maju tanpa diimbangi dengan perkembangan teknologi dan resource. Tanpa data yang cukup, *Deep Learning* tidak bisa belajar dengan baik. Dan perkembangan Internet sangat membantu memperkaya data tersebut. \n",
    "\n",
    "Dengan data yang makin besar, resource dan teknologi komputasi harus semakin ditingkatkan agar proses pelatihan dapat berjalan dengan lama waktu yang masih bisa diterima. NVIDIA dan Google memiliki peran penting dalam perkembangan GPU dan TPU yang mempercepat proses perhitungan.\n",
    "\n",
    "Perbandingan CPU-GPU-TPU | Perbandingan Komputasi NVIDIA\n",
    "---|---\n",
    "![perbandingan4](https://storage.googleapis.com/gweb-cloudblog-publish/original_images/tpu-6tlel.PNG)|![](https://icdn3.digitaltrends.com/image/data-center-tesla-v100-inference-performance-chart-297-m2x-720x720.png)"
   ]
  },
  {
   "cell_type": "markdown",
   "metadata": {},
   "source": [
    "![title](https://image.ibb.co/hjVDoz/footer.png)\n"
   ]
  }
 ],
 "metadata": {
  "kernelspec": {
   "display_name": "Python 3",
   "language": "python",
   "name": "python3"
  },
  "language_info": {
   "codemirror_mode": {
    "name": "ipython",
    "version": 3
   },
   "file_extension": ".py",
   "mimetype": "text/x-python",
   "name": "python",
   "nbconvert_exporter": "python",
   "pygments_lexer": "ipython3",
   "version": "3.6.5"
  }
 },
 "nbformat": 4,
 "nbformat_minor": 2
}
